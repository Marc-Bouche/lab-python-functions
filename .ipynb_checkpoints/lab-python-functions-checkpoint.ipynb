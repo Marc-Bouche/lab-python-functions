{
 "cells": [
  {
   "cell_type": "markdown",
   "id": "25d7736c-ba17-4aff-b6bb-66eba20fbf4e",
   "metadata": {},
   "source": [
    "# Lab | Functions"
   ]
  },
  {
   "cell_type": "markdown",
   "id": "0c581062-8967-4d93-b06e-62833222f930",
   "metadata": {
    "tags": []
   },
   "source": [
    "## Exercise: Managing Customer Orders with Functions\n",
    "\n",
    "In the previous exercise, you improved the code for managing customer orders by using loops and flow control. Now, let's take it a step further and refactor the code by introducing functions.\n",
    "\n",
    "Follow the steps below to complete the exercise:\n",
    "\n",
    "1. Define a function named `initialize_inventory` that takes `products` as a parameter. Inside the function, implement the code for initializing the inventory dictionary using a loop and user input.\n",
    "\n",
    "2. Define a function named `get_customer_orders` that takes no parameters. Inside the function, implement the code for prompting the user to enter the product names using a loop. The function should return the `customer_orders` set.\n",
    "\n",
    "3. Define a function named `update_inventory` that takes `customer_orders` and `inventory` as parameters. Inside the function, implement the code for updating the inventory dictionary based on the customer orders.\n",
    "\n",
    "4. Define a function named `calculate_order_statistics` that takes `customer_orders` and `products` as parameters. Inside the function, implement the code for calculating the order statistics (total products ordered, and percentage of unique products ordered). The function should return these values.\n",
    "\n",
    "5. Define a function named `print_order_statistics` that takes `order_statistics` as a parameter. Inside the function, implement the code for printing the order statistics.\n",
    "\n",
    "6. Define a function named `print_updated_inventory` that takes `inventory` as a parameter. Inside the function, implement the code for printing the updated inventory.\n",
    "\n",
    "7. Call the functions in the appropriate sequence to execute the program and manage customer orders.\n",
    "\n",
    "Hints for functions:\n",
    "\n",
    "- Consider the input parameters required for each function and their return values.\n",
    "- Utilize function parameters and return values to transfer data between functions.\n",
    "- Test your functions individually to ensure they work correctly.\n",
    "\n",
    "\n"
   ]
  },
  {
   "cell_type": "markdown",
   "id": "1aee54b5-a14b-41f3-907f-1e6ba00f7fc8",
   "metadata": {},
   "source": [
    "## 1.Define a function named initialize_inventory that takes products as a parameter. Inside the function, implement the code for initializing the inventory dictionary using a loop and user input."
   ]
  },
  {
   "cell_type": "code",
   "execution_count": 20,
   "id": "64e34ace-6eb7-4ddc-9be0-bbefa9f42d7f",
   "metadata": {},
   "outputs": [],
   "source": [
    "def initialize_inventory(products):\n",
    "    for product in products:\n",
    "        inventory[product] = int(input(f\"Enter the quantity of {product} available in the inventory: \"))\n",
    "    return inventory\n",
    "products = [\"t-shirt\", \"mug\", \"hat\", \"book\", \"keychain\"]\n",
    "inventory = {}"
   ]
  },
  {
   "cell_type": "code",
   "execution_count": 22,
   "id": "550893d0-9d4a-4f85-8698-a28220a6063f",
   "metadata": {},
   "outputs": [
    {
     "name": "stdin",
     "output_type": "stream",
     "text": [
      "Enter the quantity of t-shirt available in the inventory:  5\n",
      "Enter the quantity of mug available in the inventory:  5\n",
      "Enter the quantity of hat available in the inventory:  5\n",
      "Enter the quantity of book available in the inventory:  5\n",
      "Enter the quantity of keychain available in the inventory:  5\n"
     ]
    },
    {
     "data": {
      "text/plain": [
       "{'t-shirt': 5, 'mug': 5, 'hat': 5, 'book': 5, 'keychain': 5}"
      ]
     },
     "execution_count": 22,
     "metadata": {},
     "output_type": "execute_result"
    }
   ],
   "source": [
    "initialize_inventory(products)"
   ]
  },
  {
   "cell_type": "markdown",
   "id": "516a5049-e985-46e8-8c24-8f595ba39230",
   "metadata": {},
   "source": [
    "## 2. Define a function named get_customer_orders that takes no parameters. Inside the function, implement the code for prompting the user to enter the product names using a loop. The function should return the customer_orders set."
   ]
  },
  {
   "cell_type": "code",
   "execution_count": 74,
   "id": "2f08d852-27c3-4619-aadd-9686da61c0ef",
   "metadata": {},
   "outputs": [],
   "source": [
    "customer_orders=set()\n",
    "def get_customer_orders():\n",
    "    question ='yes'\n",
    "    while question == 'yes':\n",
    "        order= input('What would you like to order?')\n",
    "        customer_orders.add(order)\n",
    "        question=input('Would you like to add another product?')\n",
    "    return customer_orders\n",
    "    "
   ]
  },
  {
   "cell_type": "code",
   "execution_count": 76,
   "id": "bc0fed0c-d16d-4c0d-8612-11bd54ce7463",
   "metadata": {},
   "outputs": [
    {
     "name": "stdin",
     "output_type": "stream",
     "text": [
      "What would you like to order? book\n",
      "Would you like to add another product? yes\n",
      "What would you like to order? mug\n",
      "Would you like to add another product? yes\n",
      "What would you like to order? keychain\n",
      "Would you like to add another product? no\n"
     ]
    },
    {
     "data": {
      "text/plain": [
       "{'book', 'keychain', 'mug'}"
      ]
     },
     "execution_count": 76,
     "metadata": {},
     "output_type": "execute_result"
    }
   ],
   "source": [
    "get_customer_orders()"
   ]
  },
  {
   "cell_type": "markdown",
   "id": "3e818810-4576-4837-98db-1f12aaa2950a",
   "metadata": {},
   "source": [
    "## 3 Define a function named update_inventory that takes customer_orders and inventory as parameters. Inside the function, implement the code for updating the inventory dictionary based on the customer orders."
   ]
  },
  {
   "cell_type": "code",
   "execution_count": 82,
   "id": "b94dca82-76ca-4a44-8612-685383dd7bed",
   "metadata": {},
   "outputs": [],
   "source": [
    "def updated_inventory(customer_orders, inventory):\n",
    "    inventory.value\n",
    "\n",
    "    return updated_inventory"
   ]
  },
  {
   "cell_type": "code",
   "execution_count": 89,
   "id": "7b7c0bba-86c8-4089-85bc-a56af14a6dfe",
   "metadata": {},
   "outputs": [
    {
     "ename": "AttributeError",
     "evalue": "'dict' object has no attribute 'value'",
     "output_type": "error",
     "traceback": [
      "\u001b[0;31m---------------------------------------------------------------------------\u001b[0m",
      "\u001b[0;31mAttributeError\u001b[0m                            Traceback (most recent call last)",
      "Cell \u001b[0;32mIn[89], line 1\u001b[0m\n\u001b[0;32m----> 1\u001b[0m \u001b[38;5;28;01mfor\u001b[39;00m value \u001b[38;5;129;01min\u001b[39;00m inventory\u001b[38;5;241m.\u001b[39mvalue():\n\u001b[1;32m      2\u001b[0m     \u001b[38;5;241m-\u001b[39m\u001b[38;5;241m1\u001b[39m\n",
      "\u001b[0;31mAttributeError\u001b[0m: 'dict' object has no attribute 'value'"
     ]
    }
   ],
   "source": [
    "for value in inventory.value():\n",
    "    -1"
   ]
  },
  {
   "cell_type": "code",
   "execution_count": null,
   "id": "dbda4114-735d-4783-b987-17a4661a5c82",
   "metadata": {},
   "outputs": [],
   "source": [
    "customer_orders=set()\n",
    "def get_customer_orders():\n",
    "    customer_orders=set()\n",
    "    question= input('Please enter the first product you would like to order:')\n",
    "    question= yes\n",
    "    while question == 'yes':\n",
    "        order= input('What would you like to order?')\n",
    "        customer_orders.add(order)\n",
    "        question=input('Would you like to add another product?')\n",
    "    return customer_orders.set"
   ]
  }
 ],
 "metadata": {
  "kernelspec": {
   "display_name": "Python 3 (ipykernel)",
   "language": "python",
   "name": "python3"
  },
  "language_info": {
   "codemirror_mode": {
    "name": "ipython",
    "version": 3
   },
   "file_extension": ".py",
   "mimetype": "text/x-python",
   "name": "python",
   "nbconvert_exporter": "python",
   "pygments_lexer": "ipython3",
   "version": "3.12.4"
  }
 },
 "nbformat": 4,
 "nbformat_minor": 5
}
