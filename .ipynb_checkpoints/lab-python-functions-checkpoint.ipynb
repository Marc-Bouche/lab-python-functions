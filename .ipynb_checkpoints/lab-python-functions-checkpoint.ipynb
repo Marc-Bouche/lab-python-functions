{
 "cells": [
  {
   "cell_type": "markdown",
   "id": "25d7736c-ba17-4aff-b6bb-66eba20fbf4e",
   "metadata": {},
   "source": [
    "# Lab | Functions"
   ]
  },
  {
   "cell_type": "markdown",
   "id": "0c581062-8967-4d93-b06e-62833222f930",
   "metadata": {
    "tags": []
   },
   "source": [
    "## Exercise: Managing Customer Orders with Functions\n",
    "\n",
    "In the previous exercise, you improved the code for managing customer orders by using loops and flow control. Now, let's take it a step further and refactor the code by introducing functions.\n",
    "\n",
    "Follow the steps below to complete the exercise:\n",
    "\n",
    "1. Define a function named `initialize_inventory` that takes `products` as a parameter. Inside the function, implement the code for initializing the inventory dictionary using a loop and user input.\n",
    "\n",
    "2. Define a function named `get_customer_orders` that takes no parameters. Inside the function, implement the code for prompting the user to enter the product names using a loop. The function should return the `customer_orders` set.\n",
    "\n",
    "3. Define a function named `update_inventory` that takes `customer_orders` and `inventory` as parameters. Inside the function, implement the code for updating the inventory dictionary based on the customer orders.\n",
    "\n",
    "4. Define a function named `calculate_order_statistics` that takes `customer_orders` and `products` as parameters. Inside the function, implement the code for calculating the order statistics (total products ordered, and percentage of unique products ordered). The function should return these values.\n",
    "\n",
    "5. Define a function named `print_order_statistics` that takes `order_statistics` as a parameter. Inside the function, implement the code for printing the order statistics.\n",
    "\n",
    "6. Define a function named `print_updated_inventory` that takes `inventory` as a parameter. Inside the function, implement the code for printing the updated inventory.\n",
    "\n",
    "7. Call the functions in the appropriate sequence to execute the program and manage customer orders.\n",
    "\n",
    "Hints for functions:\n",
    "\n",
    "- Consider the input parameters required for each function and their return values.\n",
    "- Utilize function parameters and return values to transfer data between functions.\n",
    "- Test your functions individually to ensure they work correctly.\n",
    "\n",
    "\n"
   ]
  },
  {
   "cell_type": "markdown",
   "id": "1aee54b5-a14b-41f3-907f-1e6ba00f7fc8",
   "metadata": {},
   "source": [
    "## 1.Define a function named initialize_inventory that takes products as a parameter. Inside the function, implement the code for initializing the inventory dictionary using a loop and user input."
   ]
  },
  {
   "cell_type": "code",
   "execution_count": 20,
   "id": "64e34ace-6eb7-4ddc-9be0-bbefa9f42d7f",
   "metadata": {},
   "outputs": [],
   "source": [
    "def initialize_inventory(products):\n",
    "    for product in products:\n",
    "        inventory[product] = int(input(f\"Enter the quantity of {product} available in the inventory: \"))\n",
    "    return inventory\n",
    "products = [\"t-shirt\", \"mug\", \"hat\", \"book\", \"keychain\"]\n",
    "inventory = {}"
   ]
  },
  {
   "cell_type": "code",
   "execution_count": 22,
   "id": "550893d0-9d4a-4f85-8698-a28220a6063f",
   "metadata": {},
   "outputs": [
    {
     "name": "stdin",
     "output_type": "stream",
     "text": [
      "Enter the quantity of t-shirt available in the inventory:  10\n",
      "Enter the quantity of mug available in the inventory:  10\n",
      "Enter the quantity of hat available in the inventory:  10\n",
      "Enter the quantity of book available in the inventory:  10\n",
      "Enter the quantity of keychain available in the inventory:  10\n"
     ]
    },
    {
     "data": {
      "text/plain": [
       "{'t-shirt': 10, 'mug': 10, 'hat': 10, 'book': 10, 'keychain': 10}"
      ]
     },
     "execution_count": 22,
     "metadata": {},
     "output_type": "execute_result"
    }
   ],
   "source": [
    "initialize_inventory(products)"
   ]
  },
  {
   "cell_type": "markdown",
   "id": "516a5049-e985-46e8-8c24-8f595ba39230",
   "metadata": {},
   "source": [
    "## 2. Define a function named get_customer_orders that takes no parameters. Inside the function, implement the code for prompting the user to enter the product names using a loop. The function should return the customer_orders set."
   ]
  },
  {
   "cell_type": "code",
   "execution_count": 66,
   "id": "2f08d852-27c3-4619-aadd-9686da61c0ef",
   "metadata": {},
   "outputs": [],
   "source": [
    "customer_orders=set()\n",
    "def get_customer_orders():\n",
    "    question ='yes'\n",
    "    while question == 'yes':\n",
    "        order= input('What would you like to order?')\n",
    "        question=input('Would you like to add another product?')\n",
    "        customer_orders.add(order)\n",
    "        customer_orders.add(question)\n",
    "    return customer_orders\n",
    "    "
   ]
  },
  {
   "cell_type": "code",
   "execution_count": 68,
   "id": "bc0fed0c-d16d-4c0d-8612-11bd54ce7463",
   "metadata": {},
   "outputs": [
    {
     "name": "stdin",
     "output_type": "stream",
     "text": [
      "What would you like to order? hat\n",
      "Would you like to add another product? mug\n"
     ]
    },
    {
     "data": {
      "text/plain": [
       "{'hat', 'mug'}"
      ]
     },
     "execution_count": 68,
     "metadata": {},
     "output_type": "execute_result"
    }
   ],
   "source": [
    "get_customer_orders()"
   ]
  },
  {
   "cell_type": "markdown",
   "id": "3e818810-4576-4837-98db-1f12aaa2950a",
   "metadata": {},
   "source": [
    "## 3 Define a function named update_inventory that takes customer_orders and inventory as parameters. Inside the function, implement the code for updating the inventory dictionary based on the customer orders."
   ]
  },
  {
   "cell_type": "code",
   "execution_count": 113,
   "id": "dd897336-90e2-4d2f-9764-d8d341075feb",
   "metadata": {},
   "outputs": [],
   "source": [
    "def update_inventory(customer_orders, inventory):\n",
    "    for order in customer_orders:\n",
    "        if order in inventory.keys():\n",
    "           inventory[order]-=1\n",
    "    return update_inventory"
   ]
  },
  {
   "cell_type": "code",
   "execution_count": 115,
   "id": "7edb4bcb-5f59-4637-9bda-5bd553368179",
   "metadata": {},
   "outputs": [
    {
     "data": {
      "text/plain": [
       "<function __main__.updated_inventory(customer_orders, inventory)>"
      ]
     },
     "execution_count": 115,
     "metadata": {},
     "output_type": "execute_result"
    }
   ],
   "source": [
    " updated_inventory(customer_orders, inventory)"
   ]
  },
  {
   "cell_type": "markdown",
   "id": "8b30adbd-c3ad-48e6-b9ac-87fa03302d99",
   "metadata": {},
   "source": [
    "## 4. Define a function named calculate_order_statistics that takes customer_orders and products as parameters. Inside the function, implement the code for calculating the order statistics (total products ordered, and percentage of unique products ordered). The function should return these values."
   ]
  },
  {
   "cell_type": "code",
   "execution_count": 201,
   "id": "f3559d98-e665-4577-8ec2-056f11086316",
   "metadata": {},
   "outputs": [
    {
     "ename": "NameError",
     "evalue": "name 'percentage_order' is not defined",
     "output_type": "error",
     "traceback": [
      "\u001b[0;31m---------------------------------------------------------------------------\u001b[0m",
      "\u001b[0;31mNameError\u001b[0m                                 Traceback (most recent call last)",
      "Cell \u001b[0;32mIn[201], line 5\u001b[0m\n\u001b[1;32m      3\u001b[0m     \u001b[38;5;28;01mfor\u001b[39;00m product \u001b[38;5;129;01min\u001b[39;00m customer_orders:\n\u001b[1;32m      4\u001b[0m         percentage_order\u001b[38;5;241m=\u001b[39m(\u001b[38;5;28mlen\u001b[39m(customer_orders)\u001b[38;5;241m/\u001b[39minventory[product])\u001b[38;5;241m*\u001b[39m\u001b[38;5;241m100\u001b[39m\n\u001b[0;32m----> 5\u001b[0m \u001b[38;5;28mprint\u001b[39m(\u001b[38;5;124m'\u001b[39m\u001b[38;5;124mthe order contains\u001b[39m\u001b[38;5;124m'\u001b[39m,percentage_order,\u001b[38;5;124m'\u001b[39m\u001b[38;5;132;01m% o\u001b[39;00m\u001b[38;5;124mf\u001b[39m\u001b[38;5;124m'\u001b[39m,products,\u001b[38;5;124m'\u001b[39m\u001b[38;5;124min the inventory\u001b[39m\u001b[38;5;124m'\u001b[39m)\n\u001b[1;32m      6\u001b[0m \u001b[38;5;28;01mreturn\u001b[39;00m calculate_order_statistics(customer_orders, products)\n",
      "\u001b[0;31mNameError\u001b[0m: name 'percentage_order' is not defined"
     ]
    }
   ],
   "source": [
    "def calculate_order_statistics (customer_orders, products):\n",
    "    total_products_ordered=len(customer_orders)\n",
    "    for product in customer_orders:\n",
    "        percentage_order=(len(customer_orders)/inventory[product])*100\n",
    "print('the order contains',percentage_order,'% of',products,'in the inventory')\n",
    "return calculate_order_statistics(customer_orders, products)"
   ]
  },
  {
   "cell_type": "code",
   "execution_count": 203,
   "id": "04c0b28b-9ea1-435f-a1d2-3d903cb5ca9b",
   "metadata": {},
   "outputs": [],
   "source": [
    "calculate_order_statistics (customer_orders, products)"
   ]
  },
  {
   "cell_type": "markdown",
   "id": "bff1e766-e261-4609-ac40-4c118fc27d1f",
   "metadata": {},
   "source": [
    "## 5. Define a function named print_order_statistics that takes order_statistics as a parameter. Inside the function, implement the code for printing the order statistics"
   ]
  },
  {
   "cell_type": "code",
   "execution_count": 38,
   "id": "683c8f1a-b42e-4f6a-a7fd-5411ce547864",
   "metadata": {},
   "outputs": [
    {
     "ename": "NameError",
     "evalue": "name 'order_statistics' is not defined",
     "output_type": "error",
     "traceback": [
      "\u001b[0;31m---------------------------------------------------------------------------\u001b[0m",
      "\u001b[0;31mNameError\u001b[0m                                 Traceback (most recent call last)",
      "Cell \u001b[0;32mIn[38], line 4\u001b[0m\n\u001b[1;32m      2\u001b[0m     \u001b[38;5;28mprint\u001b[39m(\u001b[38;5;124m'\u001b[39m\u001b[38;5;124mTotal products ordered: (order_statistics(0)\u001b[39m\u001b[38;5;130;01m\\n\u001b[39;00m\u001b[38;5;124m Percentage of products ordered:\u001b[39m\u001b[38;5;132;01m{order_statistics[1]}\u001b[39;00m\u001b[38;5;124m'\u001b[39m)\n\u001b[1;32m      3\u001b[0m     \u001b[38;5;28;01mreturn\u001b[39;00m order_statistics\n\u001b[0;32m----> 4\u001b[0m \u001b[38;5;28mprint\u001b[39m(order_statistics)\n",
      "\u001b[0;31mNameError\u001b[0m: name 'order_statistics' is not defined"
     ]
    }
   ],
   "source": [
    "def print_order_statistics(order_statistics):\n",
    "    print('Total products ordered: (order_statistics(0)\\n Percentage of products ordered:{order_statistics[1]}')\n",
    "    return order_statistics\n",
    "print(order_statistics)\n"
   ]
  },
  {
   "cell_type": "markdown",
   "id": "0dbcac59-fc56-49a0-850f-4aa11f76e393",
   "metadata": {},
   "source": [
    "## 6.Define a function named print_updated_inventory that takes inventory as a parameter. Inside the function, implement the code for printing the updated inventory.\n",
    "\n"
   ]
  },
  {
   "cell_type": "code",
   "execution_count": null,
   "id": "8e1a6b7b-50ac-4bac-80f8-40a27fb8f9b4",
   "metadata": {},
   "outputs": [],
   "source": [
    "def print_updated_inventory"
   ]
  },
  {
   "cell_type": "markdown",
   "id": "849f1915-7687-4aa8-ad43-5acc872c5847",
   "metadata": {},
   "source": [
    "## 7.Call the functions in the appropriate sequence to execute the program and manage customer orders."
   ]
  },
  {
   "cell_type": "code",
   "execution_count": null,
   "id": "702b75d9-4b4c-4a2a-8884-ed7c81a43396",
   "metadata": {},
   "outputs": [],
   "source": []
  },
  {
   "cell_type": "code",
   "execution_count": null,
   "id": "8b4edf27-c60c-44c8-b4d0-6dc61709c0b1",
   "metadata": {},
   "outputs": [],
   "source": []
  },
  {
   "cell_type": "code",
   "execution_count": null,
   "id": "934c0528-b168-4d3a-b1f4-8662726995f4",
   "metadata": {},
   "outputs": [],
   "source": []
  },
  {
   "cell_type": "code",
   "execution_count": null,
   "id": "d6699dcc-b44a-4322-9c17-8e32938c3cc0",
   "metadata": {},
   "outputs": [],
   "source": []
  },
  {
   "cell_type": "code",
   "execution_count": null,
   "id": "ec08a4d0-ed23-49e9-a52b-13bc93c302ac",
   "metadata": {},
   "outputs": [],
   "source": []
  },
  {
   "cell_type": "code",
   "execution_count": null,
   "id": "ae5cfcb1-05c1-4c55-999f-86003982217e",
   "metadata": {},
   "outputs": [],
   "source": []
  },
  {
   "cell_type": "code",
   "execution_count": null,
   "id": "63992dbf-d827-443b-9bea-80dbf0179557",
   "metadata": {},
   "outputs": [],
   "source": []
  }
 ],
 "metadata": {
  "kernelspec": {
   "display_name": "Python 3 (ipykernel)",
   "language": "python",
   "name": "python3"
  },
  "language_info": {
   "codemirror_mode": {
    "name": "ipython",
    "version": 3
   },
   "file_extension": ".py",
   "mimetype": "text/x-python",
   "name": "python",
   "nbconvert_exporter": "python",
   "pygments_lexer": "ipython3",
   "version": "3.12.4"
  }
 },
 "nbformat": 4,
 "nbformat_minor": 5
}
